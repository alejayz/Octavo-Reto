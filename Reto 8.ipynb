{
 "cells": [
  {
   "cell_type": "code",
   "execution_count": null,
   "metadata": {},
   "outputs": [],
   "source": [
    "#1. Imprimir los números de 1 - 100 con su respectivo cuadrado\n",
    "\n",
    "for i in range(1,101): #se utiliza range para indicar el rango de números a imprimir\n",
    "    print(str(i) + ' - su cuadrado es ' + str(i**2)) #se utiliza la operación para hallar el cuadrado"
   ]
  },
  {
   "cell_type": "code",
   "execution_count": null,
   "metadata": {},
   "outputs": [],
   "source": [
    "#2. Imprimir lista de impares de 1 - 999 y lista de pares de 2 - 1000\n",
    "\n",
    "range(1,1000,2) #se utiliza 2 al final para indicar el aumento entre cada número\n",
    "print(\"Números impares: \") #para indicar el tipo de números\n",
    "for i in range(1,1000,2):\n",
    "    print(i)\n",
    "\n",
    "range(2,1001,2) #se utiliza 2 al final para indicar el aumento entre cada número\n",
    "print(\"Numeros pares: \") #para indicar el tipo de números\n",
    "for i in range(2,1001,2):\n",
    "    print(i)"
   ]
  },
  {
   "cell_type": "code",
   "execution_count": 3,
   "metadata": {},
   "outputs": [],
   "source": [
    "#3. Imprimir los números pares en forma descendente hasta 2 que son menores o iguales a un número natural n ≥ 2 dado\n",
    "\n",
    "x = int(input(\"ingrese un número mayor o igual a 2: \")) # se debe ingresar un número entero\n",
    "if x % 2 != 0: #se utiliza el operador de igualdad para saber si el número es par\n",
    "    x -= 1 #si no es par se resta 1 para arrojar secuencia de pares\n",
    "for i in range(x,0,-2): #se indica el rango a imprimir y se utilixa -2 para arrojar secuencia de pares\n",
    "        print(i)"
   ]
  }
 ],
 "metadata": {
  "kernelspec": {
   "display_name": "Python 3",
   "language": "python",
   "name": "python3"
  },
  "language_info": {
   "codemirror_mode": {
    "name": "ipython",
    "version": 3
   },
   "file_extension": ".py",
   "mimetype": "text/x-python",
   "name": "python",
   "nbconvert_exporter": "python",
   "pygments_lexer": "ipython3",
   "version": "3.11.2"
  },
  "orig_nbformat": 4,
  "vscode": {
   "interpreter": {
    "hash": "69c23f854b2cbf2de8feaaeff27c472a8be8087a561914156977219398d231aa"
   }
  }
 },
 "nbformat": 4,
 "nbformat_minor": 2
}
